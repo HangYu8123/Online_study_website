{
 "cells": [
  {
   "cell_type": "code",
   "execution_count": 4,
   "metadata": {},
   "outputs": [],
   "source": [
    "import glob\n",
    "import csv\n",
    "import re  # Import the regular expressions module"
   ]
  },
  {
   "cell_type": "code",
   "execution_count": 5,
   "metadata": {},
   "outputs": [
    {
     "ename": "IndexError",
     "evalue": "list index out of range",
     "output_type": "error",
     "traceback": [
      "\u001b[0;31m---------------------------------------------------------------------------\u001b[0m",
      "\u001b[0;31mIndexError\u001b[0m                                Traceback (most recent call last)",
      "\u001b[1;32m/home/hang/Online_study_website/Phase_2/data/data_ana_phase2.ipynb Cell 2\u001b[0m line \u001b[0;36m4\n\u001b[1;32m     <a href='vscode-notebook-cell:/home/hang/Online_study_website/Phase_2/data/data_ana_phase2.ipynb#W0sZmlsZQ%3D%3D?line=42'>43</a>\u001b[0m recover_pro\u001b[39m.\u001b[39mappend(arrays_from_csv[\u001b[39m3\u001b[39m])\n\u001b[1;32m     <a href='vscode-notebook-cell:/home/hang/Online_study_website/Phase_2/data/data_ana_phase2.ipynb#W0sZmlsZQ%3D%3D?line=43'>44</a>\u001b[0m error_pro\u001b[39m.\u001b[39mappend(arrays_from_csv[\u001b[39m4\u001b[39m])\n\u001b[0;32m---> <a href='vscode-notebook-cell:/home/hang/Online_study_website/Phase_2/data/data_ana_phase2.ipynb#W0sZmlsZQ%3D%3D?line=44'>45</a>\u001b[0m challenge_pro\u001b[39m.\u001b[39mappend(arrays_from_csv[\u001b[39m5\u001b[39;49m])\n\u001b[1;32m     <a href='vscode-notebook-cell:/home/hang/Online_study_website/Phase_2/data/data_ana_phase2.ipynb#W0sZmlsZQ%3D%3D?line=45'>46</a>\u001b[0m effective_pro\u001b[39m.\u001b[39mappend(arrays_from_csv[\u001b[39m6\u001b[39m])\n\u001b[1;32m     <a href='vscode-notebook-cell:/home/hang/Online_study_website/Phase_2/data/data_ana_phase2.ipynb#W0sZmlsZQ%3D%3D?line=46'>47</a>\u001b[0m alternative_pro\u001b[39m.\u001b[39mappend(arrays_from_csv[\u001b[39m7\u001b[39m])\n",
      "\u001b[0;31mIndexError\u001b[0m: list index out of range"
     ]
    }
   ],
   "source": [
    "\n",
    "\n",
    "# Read progress data from CSV files and store them into lists\n",
    "csv_files = glob.glob('progress/progress_*.csv')\n",
    "\n",
    "# Create empty lists to store data from all files\n",
    "perfect_pro = []\n",
    "imperfect_pro = []\n",
    "non_recover_pro = []\n",
    "recover_pro = []\n",
    "error_pro = []\n",
    "challenge_pro = []\n",
    "effective_pro = []\n",
    "alternative_pro = []\n",
    "confused_pro = []\n",
    "easy_pro = []\n",
    "\n",
    "\n",
    "\n",
    "\n",
    "# Loop through each file\n",
    "for csv_file in csv_files:\n",
    "    arrays_from_csv = []\n",
    "    sentences_from_csv = []\n",
    "    # Open and read the CSV file\n",
    "    with open(csv_file, 'r') as file:\n",
    "        for row in file:\n",
    "            print(row)\n",
    "            # Check if the first element can be converted to an integer\n",
    "            try:\n",
    "                int(row[0])\n",
    "                is_numeric = True\n",
    "            except ValueError:\n",
    "                is_numeric = False\n",
    "            \n",
    "            if is_numeric:\n",
    "                line = re.split('[ ,]', row.strip())\n",
    "                arrays_from_csv.append([int(x) for x in line])\n",
    "            else:\n",
    "                sentences_from_csv.append(row)\n",
    "                \n",
    "    perfect_pro.append(arrays_from_csv[0])\n",
    "    imperfect_pro.append(arrays_from_csv[1])\n",
    "    non_recover_pro.append(arrays_from_csv[2])\n",
    "    recover_pro.append(arrays_from_csv[3])\n",
    "    error_pro.append(arrays_from_csv[4])\n",
    "    challenge_pro.append(arrays_from_csv[5])\n",
    "    effective_pro.append(arrays_from_csv[6])\n",
    "    alternative_pro.append(arrays_from_csv[7])\n",
    "    confused_pro.append(sentences_from_csv[0])\n",
    "    easy_pro.append(sentences_from_csv[1])\n",
    "\n",
    "print(\"perfect_pro: \", perfect_pro)\n",
    "print(\"confused_pro:\", confused_pro)\n",
    "print(\"easy_pro: \", easy_pro)\n"
   ]
  },
  {
   "cell_type": "code",
   "execution_count": null,
   "metadata": {},
   "outputs": [],
   "source": []
  }
 ],
 "metadata": {
  "kernelspec": {
   "display_name": "Python 3",
   "language": "python",
   "name": "python3"
  },
  "language_info": {
   "codemirror_mode": {
    "name": "ipython",
    "version": 3
   },
   "file_extension": ".py",
   "mimetype": "text/x-python",
   "name": "python",
   "nbconvert_exporter": "python",
   "pygments_lexer": "ipython3",
   "version": "3.8.10"
  },
  "orig_nbformat": 4
 },
 "nbformat": 4,
 "nbformat_minor": 2
}
