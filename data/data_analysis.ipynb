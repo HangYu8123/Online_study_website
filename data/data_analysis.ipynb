{
 "cells": [
  {
   "cell_type": "code",
   "execution_count": 6,
   "metadata": {},
   "outputs": [
    {
     "name": "stdout",
     "output_type": "stream",
     "text": [
      "[[35, 25, 30, 45, 55, 60, 70, 90, 95, 80], [30, 30, 40, 40, 60, 70, 80, 80, 85, 85], [10, 15, 25, 30, 50, 70, 75, 90, 95, 96], [20, 30, 20, 40, 35, 40, 40, 80, 90, 92], [20, 25, 45, 55, 70, 75, 80, 90, 95, 96]]\n",
      "[[20, 25, 70, 85, 90, 95, 96, 98, 100, 100], [35, 40, 60, 80, 85, 90, 95, 98, 100, 100], [15, 20, 40, 60, 65, 70, 80, 90, 98, 100], [35, 32, 75, 85, 90, 94, 97, 98, 99, 100], [45, 45, 65, 80, 90, 95, 96, 98, 99, 100]]\n",
      "[[10, 20, 20, 25, 15, 35, 40, 50, 60, 65], [30, 40, 50, 60, 70, 80, 85, 90, 95, 100], [10, 20, 30, 40, 50, 60, 70, 80, 90, 100], [50, 60, 45, 85, 40, 90, 90, 95, 100, 100], [50, 55, 55, 50, 30, 65, 60, 50, 70, 75]]\n",
      "[[35, 15, 25, 75, 65, 35], [75, 35, 20, 85, 65, 15], [55, 0, 5, 75, 50, 0], [55, 10, 20, 95, 100, 35], [35, 20, 20, 90, 100, 10]]\n"
     ]
    }
   ],
   "source": [
    "# read data\n",
    "import glob\n",
    "import re\n",
    "\n",
    "# Get list of all CSV files\n",
    "csv_files = glob.glob('progress/progress_*.csv')\n",
    "\n",
    "# Create an empty list to store data from all files\n",
    "moving_pro = []\n",
    "pouring_pro = []\n",
    "spining_pro = []\n",
    "tlx_pro = []\n",
    "\n",
    "# Read each CSV file and store the data into a list\n",
    "for file in csv_files:\n",
    "    temp = []\n",
    "    with open(file, 'r') as f:\n",
    "        for line in f:\n",
    "            # split line on either a space or a comma\n",
    "            row = re.split('[ ,]', line.strip())\n",
    "            temp.append([int(x) for x in row])  # convert strings to integers\n",
    "    moving_pro.append(temp[0])\n",
    "    pouring_pro.append( temp[1])\n",
    "    spining_pro.append(temp[2])\n",
    "    tlx_pro.append(temp[3])\n",
    "\n",
    "print(moving_pro)\n",
    "print(pouring_pro)\n",
    "print(spining_pro)\n",
    "print(tlx_pro)\n"
   ]
  },
  {
   "cell_type": "code",
   "execution_count": 8,
   "metadata": {},
   "outputs": [
    {
     "ename": "ModuleNotFoundError",
     "evalue": "No module named 'seaborn'",
     "output_type": "error",
     "traceback": [
      "\u001b[0;31m---------------------------------------------------------------------------\u001b[0m",
      "\u001b[0;31mModuleNotFoundError\u001b[0m                       Traceback (most recent call last)",
      "Cell \u001b[0;32mIn[8], line 1\u001b[0m\n\u001b[0;32m----> 1\u001b[0m \u001b[39mimport\u001b[39;00m \u001b[39mseaborn\u001b[39;00m \u001b[39mas\u001b[39;00m \u001b[39msns\u001b[39;00m\n\u001b[1;32m      2\u001b[0m \u001b[39mimport\u001b[39;00m \u001b[39mmatplotlib\u001b[39;00m\u001b[39m.\u001b[39;00m\u001b[39mpyplot\u001b[39;00m \u001b[39mas\u001b[39;00m \u001b[39mplt\u001b[39;00m\n\u001b[1;32m      4\u001b[0m \u001b[39m# Create a new DataFrame for seaborn\u001b[39;00m\n",
      "\u001b[0;31mModuleNotFoundError\u001b[0m: No module named 'seaborn'"
     ]
    }
   ],
   "source": [
    "import seaborn as sns\n",
    "import matplotlib.pyplot as plt\n",
    "\n",
    "# Create a new DataFrame for seaborn\n",
    "df = pd.DataFrame(moving_pro).T\n",
    "\n",
    "# Create a violinplot, which includes a boxplot inside by default\n",
    "plt.figure(figsize=(10,6))\n",
    "sns.violinplot(data=df)\n",
    "\n",
    "plt.title('Moving Progress Violin Plot with Box Plot')\n",
    "plt.ylabel('Value')\n",
    "plt.show()\n"
   ]
  }
 ],
 "metadata": {
  "kernelspec": {
   "display_name": "Python 3.8.10 64-bit",
   "language": "python",
   "name": "python3"
  },
  "language_info": {
   "codemirror_mode": {
    "name": "ipython",
    "version": 3
   },
   "file_extension": ".py",
   "mimetype": "text/x-python",
   "name": "python",
   "nbconvert_exporter": "python",
   "pygments_lexer": "ipython3",
   "version": "3.8.10"
  },
  "orig_nbformat": 4,
  "vscode": {
   "interpreter": {
    "hash": "916dbcbb3f70747c44a77c7bcd40155683ae19c65e1c03b4aa3499c5328201f1"
   }
  }
 },
 "nbformat": 4,
 "nbformat_minor": 2
}
